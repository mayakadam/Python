{
 "cells": [
  {
   "cell_type": "code",
   "execution_count": 1,
   "metadata": {
    "scrolled": true
   },
   "outputs": [
    {
     "name": "stdout",
     "output_type": "stream",
     "text": [
      "Hello Maya\n",
      "2\n"
     ]
    }
   ],
   "source": [
    "print(\"Hello Maya\")\n",
    "a=2\n",
    "print(a)"
   ]
  },
  {
   "cell_type": "markdown",
   "metadata": {},
   "source": [
    "#Header 1\n",
    "#Header 2\n",
    "#Header 3"
   ]
  },
  {
   "cell_type": "markdown",
   "metadata": {},
   "source": [
    "Above are Markdown\n",
    "----------Started practice on matplotlib------------"
   ]
  },
  {
   "cell_type": "code",
   "execution_count": 2,
   "metadata": {},
   "outputs": [],
   "source": [
    "import matplotlib.pyplot as plt"
   ]
  },
  {
   "cell_type": "code",
   "execution_count": 5,
   "metadata": {},
   "outputs": [
    {
     "data": {
      "text/plain": [
       "Text(0.5, 1.0, 'TestMain')"
      ]
     },
     "execution_count": 5,
     "metadata": {},
     "output_type": "execute_result"
    },
    {
     "data": {
      "image/png": "[encoded data removed]",
      "text/plain": [
       "<Figure size 432x288 with 1 Axes>"
      ]
     },
     "metadata": {
      "needs_background": "light"
     },
     "output_type": "display_data"
    }
   ],
   "source": [
    "plt.plot([2,4,6],[4,3,9])\n",
    "plt.plot([1,5,4],[3,5,9])\n",
    "plt.xlabel('x-axis')\n",
    "plt.ylabel('y-axis')\n",
    "plt.legend(['DS1','DS2'])\n",
    "plt.title('TestMain')"
   ]
  },
  {
   "cell_type": "code",
   "execution_count": 6,
   "metadata": {},
   "outputs": [],
   "source": [
    "import pandas as pd"
   ]
  },
  {
   "cell_type": "code",
   "execution_count": 7,
   "metadata": {},
   "outputs": [],
   "source": [
    "csv = pd.read_csv(\"D:\\\\Python\\\\Python36\\\\Practice\\\\test.csv\")"
   ]
  },
  {
   "cell_type": "code",
   "execution_count": 8,
   "metadata": {},
   "outputs": [
    {
     "data": {
      "text/html": [
       "<div>\n",
       "<style scoped>\n",
       "    .dataframe tbody tr th:only-of-type {\n",
       "        vertical-align: middle;\n",
       "    }\n",
       "\n",
       "    .dataframe tbody tr th {\n",
       "        vertical-align: top;\n",
       "    }\n",
       "\n",
       "    .dataframe thead th {\n",
       "        text-align: right;\n",
       "    }\n",
       "</style>\n",
       "<table border=\"1\" class=\"dataframe\">\n",
       "  <thead>\n",
       "    <tr style=\"text-align: right;\">\n",
       "      <th></th>\n",
       "      <th>Name</th>\n",
       "      <th>Age</th>\n",
       "      <th>Nationality</th>\n",
       "      <th>Overall</th>\n",
       "      <th>Potential</th>\n",
       "      <th>Club</th>\n",
       "      <th>Value</th>\n",
       "      <th>Wage</th>\n",
       "      <th>Preferred Positions</th>\n",
       "      <th>Rating</th>\n",
       "    </tr>\n",
       "  </thead>\n",
       "  <tbody>\n",
       "    <tr>\n",
       "      <th>0</th>\n",
       "      <td>Cristiano Ronaldo</td>\n",
       "      <td>32</td>\n",
       "      <td>Portugal</td>\n",
       "      <td>94</td>\n",
       "      <td>94</td>\n",
       "      <td>Real Madrid CF</td>\n",
       "      <td>95.5</td>\n",
       "      <td>265</td>\n",
       "      <td>ST LW</td>\n",
       "      <td>4</td>\n",
       "    </tr>\n",
       "    <tr>\n",
       "      <th>1</th>\n",
       "      <td>L. Messi</td>\n",
       "      <td>30</td>\n",
       "      <td>Argentina</td>\n",
       "      <td>93</td>\n",
       "      <td>93</td>\n",
       "      <td>FC Barcelona</td>\n",
       "      <td>105.0</td>\n",
       "      <td>265</td>\n",
       "      <td>RW</td>\n",
       "      <td>1</td>\n",
       "    </tr>\n",
       "    <tr>\n",
       "      <th>2</th>\n",
       "      <td>Neymar</td>\n",
       "      <td>25</td>\n",
       "      <td>Brazil</td>\n",
       "      <td>92</td>\n",
       "      <td>94</td>\n",
       "      <td>Paris Saint-Germain</td>\n",
       "      <td>123.0</td>\n",
       "      <td>280</td>\n",
       "      <td>LW</td>\n",
       "      <td>5</td>\n",
       "    </tr>\n",
       "    <tr>\n",
       "      <th>3</th>\n",
       "      <td>L. Suarez</td>\n",
       "      <td>30</td>\n",
       "      <td>Uruguay</td>\n",
       "      <td>92</td>\n",
       "      <td>92</td>\n",
       "      <td>FC Barcelona</td>\n",
       "      <td>97.0</td>\n",
       "      <td>210</td>\n",
       "      <td>ST</td>\n",
       "      <td>2</td>\n",
       "    </tr>\n",
       "    <tr>\n",
       "      <th>4</th>\n",
       "      <td>M. Neuer</td>\n",
       "      <td>31</td>\n",
       "      <td>Germany</td>\n",
       "      <td>92</td>\n",
       "      <td>92</td>\n",
       "      <td>FC Bayern Munich</td>\n",
       "      <td>61.0</td>\n",
       "      <td>230</td>\n",
       "      <td>GK</td>\n",
       "      <td>1</td>\n",
       "    </tr>\n",
       "    <tr>\n",
       "      <th>5</th>\n",
       "      <td>R. Lewandowski</td>\n",
       "      <td>28</td>\n",
       "      <td>Poland</td>\n",
       "      <td>91</td>\n",
       "      <td>91</td>\n",
       "      <td>FC Bayern Munich</td>\n",
       "      <td>92.0</td>\n",
       "      <td>215</td>\n",
       "      <td>ST</td>\n",
       "      <td>1</td>\n",
       "    </tr>\n",
       "    <tr>\n",
       "      <th>6</th>\n",
       "      <td>De Gea</td>\n",
       "      <td>26</td>\n",
       "      <td>Spain</td>\n",
       "      <td>90</td>\n",
       "      <td>92</td>\n",
       "      <td>Manchester United</td>\n",
       "      <td>64.5</td>\n",
       "      <td>215</td>\n",
       "      <td>GK</td>\n",
       "      <td>3</td>\n",
       "    </tr>\n",
       "    <tr>\n",
       "      <th>7</th>\n",
       "      <td>E. Hazard</td>\n",
       "      <td>26</td>\n",
       "      <td>Belgium</td>\n",
       "      <td>90</td>\n",
       "      <td>91</td>\n",
       "      <td>Chelsea</td>\n",
       "      <td>90.5</td>\n",
       "      <td>295</td>\n",
       "      <td>LW</td>\n",
       "      <td>4</td>\n",
       "    </tr>\n",
       "    <tr>\n",
       "      <th>8</th>\n",
       "      <td>T. Kroos</td>\n",
       "      <td>27</td>\n",
       "      <td>Germany</td>\n",
       "      <td>90</td>\n",
       "      <td>90</td>\n",
       "      <td>Real Madrid CF</td>\n",
       "      <td>79.0</td>\n",
       "      <td>240</td>\n",
       "      <td>CDM CM</td>\n",
       "      <td>1</td>\n",
       "    </tr>\n",
       "    <tr>\n",
       "      <th>9</th>\n",
       "      <td>G. Higuain</td>\n",
       "      <td>29</td>\n",
       "      <td>Argentina</td>\n",
       "      <td>90</td>\n",
       "      <td>90</td>\n",
       "      <td>Juventus</td>\n",
       "      <td>77.0</td>\n",
       "      <td>275</td>\n",
       "      <td>ST</td>\n",
       "      <td>4</td>\n",
       "    </tr>\n",
       "    <tr>\n",
       "      <th>10</th>\n",
       "      <td>Sergio Ramos</td>\n",
       "      <td>31</td>\n",
       "      <td>Spain</td>\n",
       "      <td>90</td>\n",
       "      <td>90</td>\n",
       "      <td>Real Madrid CF</td>\n",
       "      <td>52.0</td>\n",
       "      <td>310</td>\n",
       "      <td>CB</td>\n",
       "      <td>5</td>\n",
       "    </tr>\n",
       "    <tr>\n",
       "      <th>11</th>\n",
       "      <td>K. De Bruyne</td>\n",
       "      <td>26</td>\n",
       "      <td>Belgium</td>\n",
       "      <td>89</td>\n",
       "      <td>92</td>\n",
       "      <td>Manchester City</td>\n",
       "      <td>83.0</td>\n",
       "      <td>285</td>\n",
       "      <td>RM CM CAM</td>\n",
       "      <td>5</td>\n",
       "    </tr>\n",
       "    <tr>\n",
       "      <th>12</th>\n",
       "      <td>T. Courtois</td>\n",
       "      <td>25</td>\n",
       "      <td>Belgium</td>\n",
       "      <td>89</td>\n",
       "      <td>92</td>\n",
       "      <td>Chelsea</td>\n",
       "      <td>59.0</td>\n",
       "      <td>190</td>\n",
       "      <td>GK</td>\n",
       "      <td>1</td>\n",
       "    </tr>\n",
       "    <tr>\n",
       "      <th>13</th>\n",
       "      <td>A. Sanchez</td>\n",
       "      <td>28</td>\n",
       "      <td>Chile</td>\n",
       "      <td>89</td>\n",
       "      <td>89</td>\n",
       "      <td>Arsenal</td>\n",
       "      <td>67.5</td>\n",
       "      <td>265</td>\n",
       "      <td>RM LW ST LM</td>\n",
       "      <td>4</td>\n",
       "    </tr>\n",
       "    <tr>\n",
       "      <th>14</th>\n",
       "      <td>L. Modric</td>\n",
       "      <td>31</td>\n",
       "      <td>Croatia</td>\n",
       "      <td>89</td>\n",
       "      <td>89</td>\n",
       "      <td>Real Madrid CF</td>\n",
       "      <td>57.0</td>\n",
       "      <td>240</td>\n",
       "      <td>CDM CM</td>\n",
       "      <td>3</td>\n",
       "    </tr>\n",
       "    <tr>\n",
       "      <th>15</th>\n",
       "      <td>G. Bale</td>\n",
       "      <td>27</td>\n",
       "      <td>Wales</td>\n",
       "      <td>89</td>\n",
       "      <td>89</td>\n",
       "      <td>Real Madrid CF</td>\n",
       "      <td>69.5</td>\n",
       "      <td>270</td>\n",
       "      <td>RW</td>\n",
       "      <td>5</td>\n",
       "    </tr>\n",
       "    <tr>\n",
       "      <th>16</th>\n",
       "      <td>G. Chiellini</td>\n",
       "      <td>32</td>\n",
       "      <td>Italy</td>\n",
       "      <td>89</td>\n",
       "      <td>89</td>\n",
       "      <td>Juventus</td>\n",
       "      <td>38.0</td>\n",
       "      <td>225</td>\n",
       "      <td>CB</td>\n",
       "      <td>1</td>\n",
       "    </tr>\n",
       "    <tr>\n",
       "      <th>17</th>\n",
       "      <td>G. Buffon</td>\n",
       "      <td>39</td>\n",
       "      <td>Italy</td>\n",
       "      <td>89</td>\n",
       "      <td>89</td>\n",
       "      <td>Juventus</td>\n",
       "      <td>4.5</td>\n",
       "      <td>110</td>\n",
       "      <td>GK</td>\n",
       "      <td>5</td>\n",
       "    </tr>\n",
       "    <tr>\n",
       "      <th>18</th>\n",
       "      <td>P. Dybala</td>\n",
       "      <td>23</td>\n",
       "      <td>Argentina</td>\n",
       "      <td>88</td>\n",
       "      <td>93</td>\n",
       "      <td>Juventus</td>\n",
       "      <td>79.0</td>\n",
       "      <td>215</td>\n",
       "      <td>ST CAM</td>\n",
       "      <td>3</td>\n",
       "    </tr>\n",
       "    <tr>\n",
       "      <th>19</th>\n",
       "      <td>J. Oblak</td>\n",
       "      <td>24</td>\n",
       "      <td>Slovenia</td>\n",
       "      <td>88</td>\n",
       "      <td>93</td>\n",
       "      <td>AtlEtico Madrid</td>\n",
       "      <td>57.0</td>\n",
       "      <td>82</td>\n",
       "      <td>GK</td>\n",
       "      <td>1</td>\n",
       "    </tr>\n",
       "    <tr>\n",
       "      <th>20</th>\n",
       "      <td>A. Griezmann</td>\n",
       "      <td>26</td>\n",
       "      <td>France</td>\n",
       "      <td>88</td>\n",
       "      <td>91</td>\n",
       "      <td>AtlEtico Madrid</td>\n",
       "      <td>75.0</td>\n",
       "      <td>150</td>\n",
       "      <td>LW RW ST</td>\n",
       "      <td>5</td>\n",
       "    </tr>\n",
       "    <tr>\n",
       "      <th>21</th>\n",
       "      <td>Thiago</td>\n",
       "      <td>26</td>\n",
       "      <td>Spain</td>\n",
       "      <td>88</td>\n",
       "      <td>90</td>\n",
       "      <td>FC Bayern Munich</td>\n",
       "      <td>70.5</td>\n",
       "      <td>225</td>\n",
       "      <td>CDM CAM CM</td>\n",
       "      <td>4</td>\n",
       "    </tr>\n",
       "    <tr>\n",
       "      <th>22</th>\n",
       "      <td>P. Aubameyang</td>\n",
       "      <td>28</td>\n",
       "      <td>Gabon</td>\n",
       "      <td>88</td>\n",
       "      <td>88</td>\n",
       "      <td>Borussia Dortmund</td>\n",
       "      <td>61.0</td>\n",
       "      <td>165</td>\n",
       "      <td>ST</td>\n",
       "      <td>1</td>\n",
       "    </tr>\n",
       "  </tbody>\n",
       "</table>\n",
       "</div>"
      ],
      "text/plain": [
       "                 Name  Age Nationality  Overall  Potential  \\\n",
       "0   Cristiano Ronaldo   32    Portugal       94         94   \n",
       "1            L. Messi   30   Argentina       93         93   \n",
       "2              Neymar   25      Brazil       92         94   \n",
       "3           L. Suarez   30     Uruguay       92         92   \n",
       "4            M. Neuer   31     Germany       92         92   \n",
       "5      R. Lewandowski   28      Poland       91         91   \n",
       "6              De Gea   26       Spain       90         92   \n",
       "7           E. Hazard   26     Belgium       90         91   \n",
       "8            T. Kroos   27     Germany       90         90   \n",
       "9          G. Higuain   29   Argentina       90         90   \n",
       "10       Sergio Ramos   31       Spain       90         90   \n",
       "11       K. De Bruyne   26     Belgium       89         92   \n",
       "12        T. Courtois   25     Belgium       89         92   \n",
       "13         A. Sanchez   28       Chile       89         89   \n",
       "14          L. Modric   31     Croatia       89         89   \n",
       "15            G. Bale   27       Wales       89         89   \n",
       "16       G. Chiellini   32       Italy       89         89   \n",
       "17          G. Buffon   39       Italy       89         89   \n",
       "18          P. Dybala   23   Argentina       88         93   \n",
       "19           J. Oblak   24    Slovenia       88         93   \n",
       "20       A. Griezmann   26      France       88         91   \n",
       "21             Thiago   26       Spain       88         90   \n",
       "22      P. Aubameyang   28       Gabon       88         88   \n",
       "\n",
       "                   Club  Value  Wage Preferred Positions  Rating  \n",
       "0        Real Madrid CF   95.5   265              ST LW        4  \n",
       "1          FC Barcelona  105.0   265                 RW        1  \n",
       "2   Paris Saint-Germain  123.0   280                 LW        5  \n",
       "3          FC Barcelona   97.0   210                 ST        2  \n",
       "4      FC Bayern Munich   61.0   230                 GK        1  \n",
       "5      FC Bayern Munich   92.0   215                 ST        1  \n",
       "6     Manchester United   64.5   215                 GK        3  \n",
       "7               Chelsea   90.5   295                 LW        4  \n",
       "8        Real Madrid CF   79.0   240             CDM CM        1  \n",
       "9              Juventus   77.0   275                 ST        4  \n",
       "10       Real Madrid CF   52.0   310                 CB        5  \n",
       "11      Manchester City   83.0   285          RM CM CAM        5  \n",
       "12              Chelsea   59.0   190                 GK        1  \n",
       "13              Arsenal   67.5   265        RM LW ST LM        4  \n",
       "14       Real Madrid CF   57.0   240             CDM CM        3  \n",
       "15       Real Madrid CF   69.5   270                 RW        5  \n",
       "16             Juventus   38.0   225                 CB        1  \n",
       "17             Juventus    4.5   110                 GK        5  \n",
       "18             Juventus   79.0   215             ST CAM        3  \n",
       "19      AtlEtico Madrid   57.0    82                 GK        1  \n",
       "20      AtlEtico Madrid   75.0   150           LW RW ST        5  \n",
       "21     FC Bayern Munich   70.5   225         CDM CAM CM        4  \n",
       "22    Borussia Dortmund   61.0   165                 ST        1  "
      ]
     },
     "execution_count": 8,
     "metadata": {},
     "output_type": "execute_result"
    }
   ],
   "source": [
    "csv"
   ]
  },
  {
   "cell_type": "code",
   "execution_count": 36,
   "metadata": {},
   "outputs": [],
   "source": [
    "df = pd.DataFrame(csv)"
   ]
  },
  {
   "cell_type": "code",
   "execution_count": 37,
   "metadata": {},
   "outputs": [
    {
     "data": {
      "text/plain": [
       "<BarContainer object of 23 artists>"
      ]
     },
     "execution_count": 37,
     "metadata": {},
     "output_type": "execute_result"
    },
    {
     "data": {
      "image/png": "[encoded data removed]",
      "text/plain": [
       "<Figure size 432x288 with 1 Axes>"
      ]
     },
     "metadata": {
      "needs_background": "light"
     },
     "output_type": "display_data"
    }
   ],
   "source": [
    "plt.bar(df.Nationality,df.Value)"
   ]
  },
  {
   "cell_type": "code",
   "execution_count": 38,
   "metadata": {},
   "outputs": [
    {
     "data": {
      "text/plain": [
       "[<matplotlib.lines.Line2D at 0x29ec48aff60>]"
      ]
     },
     "execution_count": 38,
     "metadata": {},
     "output_type": "execute_result"
    },
    {
     "data": {
      "image/png": "[encoded data removed]",
      "text/plain": [
       "<Figure size 432x288 with 1 Axes>"
      ]
     },
     "metadata": {
      "needs_background": "light"
     },
     "output_type": "display_data"
    }
   ],
   "source": [
    "plt.plot(df.Nationality,df.Value)"
   ]
  },
  {
   "cell_type": "code",
   "execution_count": 39,
   "metadata": {},
   "outputs": [
    {
     "data": {
      "text/html": [
       "<div>\n",
       "<style scoped>\n",
       "    .dataframe tbody tr th:only-of-type {\n",
       "        vertical-align: middle;\n",
       "    }\n",
       "\n",
       "    .dataframe tbody tr th {\n",
       "        vertical-align: top;\n",
       "    }\n",
       "\n",
       "    .dataframe thead th {\n",
       "        text-align: right;\n",
       "    }\n",
       "</style>\n",
       "<table border=\"1\" class=\"dataframe\">\n",
       "  <thead>\n",
       "    <tr style=\"text-align: right;\">\n",
       "      <th></th>\n",
       "      <th>Name</th>\n",
       "      <th>Age</th>\n",
       "      <th>Nationality</th>\n",
       "      <th>Overall</th>\n",
       "      <th>Potential</th>\n",
       "      <th>Club</th>\n",
       "      <th>Value</th>\n",
       "      <th>Wage</th>\n",
       "      <th>Preferred Positions</th>\n",
       "      <th>Rating</th>\n",
       "    </tr>\n",
       "  </thead>\n",
       "  <tbody>\n",
       "    <tr>\n",
       "      <th>1</th>\n",
       "      <td>L. Messi</td>\n",
       "      <td>30</td>\n",
       "      <td>Argentina</td>\n",
       "      <td>93</td>\n",
       "      <td>93</td>\n",
       "      <td>FC Barcelona</td>\n",
       "      <td>105.0</td>\n",
       "      <td>265</td>\n",
       "      <td>RW</td>\n",
       "      <td>1</td>\n",
       "    </tr>\n",
       "    <tr>\n",
       "      <th>2</th>\n",
       "      <td>Neymar</td>\n",
       "      <td>25</td>\n",
       "      <td>Brazil</td>\n",
       "      <td>92</td>\n",
       "      <td>94</td>\n",
       "      <td>Paris Saint-Germain</td>\n",
       "      <td>123.0</td>\n",
       "      <td>280</td>\n",
       "      <td>LW</td>\n",
       "      <td>5</td>\n",
       "    </tr>\n",
       "  </tbody>\n",
       "</table>\n",
       "</div>"
      ],
      "text/plain": [
       "       Name  Age Nationality  Overall  Potential                 Club  Value  \\\n",
       "1  L. Messi   30   Argentina       93         93         FC Barcelona  105.0   \n",
       "2    Neymar   25      Brazil       92         94  Paris Saint-Germain  123.0   \n",
       "\n",
       "   Wage Preferred Positions  Rating  \n",
       "1   265                 RW        1  \n",
       "2   280                 LW        5  "
      ]
     },
     "execution_count": 39,
     "metadata": {},
     "output_type": "execute_result"
    }
   ],
   "source": [
    "v1= csv[csv.Value > 100]\n",
    "v1"
   ]
  },
  {
   "cell_type": "code",
   "execution_count": 40,
   "metadata": {},
   "outputs": [
    {
     "data": {
      "text/plain": [
       "[<matplotlib.lines.Line2D at 0x29ec4a67780>]"
      ]
     },
     "execution_count": 40,
     "metadata": {},
     "output_type": "execute_result"
    },
    {
     "data": {
      "image/png": "[encoded data removed]",
      "text/plain": [
       "<Figure size 432x288 with 1 Axes>"
      ]
     },
     "metadata": {
      "needs_background": "light"
     },
     "output_type": "display_data"
    }
   ],
   "source": [
    "plt.plot(v1.Nationality,v1.Value)"
   ]
  },
  {
   "cell_type": "code",
   "execution_count": 41,
   "metadata": {},
   "outputs": [
    {
     "name": "stdout",
     "output_type": "stream",
     "text": [
      "72.06521739130434\n"
     ]
    }
   ],
   "source": [
    "print(csv.Value.mean())"
   ]
  },
  {
   "cell_type": "code",
   "execution_count": 42,
   "metadata": {},
   "outputs": [],
   "source": [
    "sp = csv[csv.Nationality =='Spain']\n",
    "it = csv[csv.Nationality=='Italy']"
   ]
  },
  {
   "cell_type": "code",
   "execution_count": 43,
   "metadata": {
    "scrolled": true
   },
   "outputs": [
    {
     "data": {
      "text/plain": [
       "(array([1., 0., 0., 0., 0., 0., 0., 0., 0., 1.]),\n",
       " array([ 4.5 ,  7.85, 11.2 , 14.55, 17.9 , 21.25, 24.6 , 27.95, 31.3 ,\n",
       "        34.65, 38.  ]),\n",
       " <a list of 10 Patch objects>)"
      ]
     },
     "execution_count": 43,
     "metadata": {},
     "output_type": "execute_result"
    },
    {
     "data": {
      "image/png": "[encoded data removed]",
      "text/plain": [
       "<Figure size 432x288 with 2 Axes>"
      ]
     },
     "metadata": {
      "needs_background": "light"
     },
     "output_type": "display_data"
    }
   ],
   "source": [
    "plt.subplot(2,1,1)\n",
    "plt.hist(sp.Value)\n",
    "plt.subplot(2,1,2)\n",
    "plt.hist(it.Value)"
   ]
  },
  {
   "cell_type": "code",
   "execution_count": 44,
   "metadata": {},
   "outputs": [
    {
     "data": {
      "text/plain": [
       "Text(0, 0.5, 'Italy')"
      ]
     },
     "execution_count": 44,
     "metadata": {},
     "output_type": "execute_result"
    },
    {
     "data": {
      "image/png": "[encoded data removed]",
      "text/plain": [
       "<Figure size 432x288 with 2 Axes>"
      ]
     },
     "metadata": {
      "needs_background": "light"
     },
     "output_type": "display_data"
    }
   ],
   "source": [
    "plt.subplot(2,1,1)\n",
    "plt.hist(sp.Value,range=[4,80])\n",
    "plt.ylabel('Spain')\n",
    "plt.subplot(2,1,2)\n",
    "plt.hist(it.Value,range=[4,80])\n",
    "plt.ylabel('Italy')"
   ]
  },
  {
   "cell_type": "code",
   "execution_count": 45,
   "metadata": {},
   "outputs": [
    {
     "name": "stdout",
     "output_type": "stream",
     "text": [
      "                 Name  Age Nationality  Overall  Potential              Club  \\\n",
      "0   Cristiano Ronaldo   32    Portugal       94         94    Real Madrid CF   \n",
      "1            L. Messi   30   Argentina       93         93      FC Barcelona   \n",
      "3           L. Suarez   30     Uruguay       92         92      FC Barcelona   \n",
      "4            M. Neuer   31     Germany       92         92  FC Bayern Munich   \n",
      "10       Sergio Ramos   31       Spain       90         90    Real Madrid CF   \n",
      "14          L. Modric   31     Croatia       89         89    Real Madrid CF   \n",
      "16       G. Chiellini   32       Italy       89         89          Juventus   \n",
      "17          G. Buffon   39       Italy       89         89          Juventus   \n",
      "\n",
      "    Value  Wage Preferred Positions  Rating  \n",
      "0    95.5   265              ST LW        4  \n",
      "1   105.0   265                 RW        1  \n",
      "3    97.0   210                 ST        2  \n",
      "4    61.0   230                 GK        1  \n",
      "10   52.0   310                 CB        5  \n",
      "14   57.0   240             CDM CM        3  \n",
      "16   38.0   225                 CB        1  \n",
      "17    4.5   110                 GK        5  \n"
     ]
    }
   ],
   "source": [
    "Age_30 = csv[csv.Age >=30]\n",
    "print(Age_30)"
   ]
  },
  {
   "cell_type": "code",
   "execution_count": 46,
   "metadata": {},
   "outputs": [
    {
     "data": {
      "text/html": [
       "<div>\n",
       "<style scoped>\n",
       "    .dataframe tbody tr th:only-of-type {\n",
       "        vertical-align: middle;\n",
       "    }\n",
       "\n",
       "    .dataframe tbody tr th {\n",
       "        vertical-align: top;\n",
       "    }\n",
       "\n",
       "    .dataframe thead th {\n",
       "        text-align: right;\n",
       "    }\n",
       "</style>\n",
       "<table border=\"1\" class=\"dataframe\">\n",
       "  <thead>\n",
       "    <tr style=\"text-align: right;\">\n",
       "      <th></th>\n",
       "      <th>Name</th>\n",
       "      <th>Age</th>\n",
       "      <th>Nationality</th>\n",
       "      <th>Overall</th>\n",
       "      <th>Potential</th>\n",
       "      <th>Club</th>\n",
       "      <th>Value</th>\n",
       "      <th>Wage</th>\n",
       "      <th>Preferred Positions</th>\n",
       "      <th>Rating</th>\n",
       "    </tr>\n",
       "  </thead>\n",
       "  <tbody>\n",
       "    <tr>\n",
       "      <th>10</th>\n",
       "      <td>Sergio Ramos</td>\n",
       "      <td>31</td>\n",
       "      <td>Spain</td>\n",
       "      <td>90</td>\n",
       "      <td>90</td>\n",
       "      <td>Real Madrid CF</td>\n",
       "      <td>52.0</td>\n",
       "      <td>310</td>\n",
       "      <td>CB</td>\n",
       "      <td>5</td>\n",
       "    </tr>\n",
       "  </tbody>\n",
       "</table>\n",
       "</div>"
      ],
      "text/plain": [
       "            Name  Age Nationality  Overall  Potential            Club  Value  \\\n",
       "10  Sergio Ramos   31       Spain       90         90  Real Madrid CF   52.0   \n",
       "\n",
       "    Wage Preferred Positions  Rating  \n",
       "10   310                 CB        5  "
      ]
     },
     "execution_count": 46,
     "metadata": {},
     "output_type": "execute_result"
    }
   ],
   "source": [
    "csv[csv['Wage'] == csv['Wage'].max()]"
   ]
  },
  {
   "cell_type": "code",
   "execution_count": 47,
   "metadata": {},
   "outputs": [],
   "source": [
    "sp1 = csv[csv['Nationality'] =='Spain']"
   ]
  },
  {
   "cell_type": "code",
   "execution_count": 48,
   "metadata": {},
   "outputs": [
    {
     "data": {
      "text/html": [
       "<div>\n",
       "<style scoped>\n",
       "    .dataframe tbody tr th:only-of-type {\n",
       "        vertical-align: middle;\n",
       "    }\n",
       "\n",
       "    .dataframe tbody tr th {\n",
       "        vertical-align: top;\n",
       "    }\n",
       "\n",
       "    .dataframe thead th {\n",
       "        text-align: right;\n",
       "    }\n",
       "</style>\n",
       "<table border=\"1\" class=\"dataframe\">\n",
       "  <thead>\n",
       "    <tr style=\"text-align: right;\">\n",
       "      <th></th>\n",
       "      <th>Name</th>\n",
       "      <th>Age</th>\n",
       "      <th>Nationality</th>\n",
       "      <th>Overall</th>\n",
       "      <th>Potential</th>\n",
       "      <th>Club</th>\n",
       "      <th>Value</th>\n",
       "      <th>Wage</th>\n",
       "      <th>Preferred Positions</th>\n",
       "      <th>Rating</th>\n",
       "    </tr>\n",
       "  </thead>\n",
       "  <tbody>\n",
       "    <tr>\n",
       "      <th>6</th>\n",
       "      <td>De Gea</td>\n",
       "      <td>26</td>\n",
       "      <td>Spain</td>\n",
       "      <td>90</td>\n",
       "      <td>92</td>\n",
       "      <td>Manchester United</td>\n",
       "      <td>64.5</td>\n",
       "      <td>215</td>\n",
       "      <td>GK</td>\n",
       "      <td>3</td>\n",
       "    </tr>\n",
       "    <tr>\n",
       "      <th>10</th>\n",
       "      <td>Sergio Ramos</td>\n",
       "      <td>31</td>\n",
       "      <td>Spain</td>\n",
       "      <td>90</td>\n",
       "      <td>90</td>\n",
       "      <td>Real Madrid CF</td>\n",
       "      <td>52.0</td>\n",
       "      <td>310</td>\n",
       "      <td>CB</td>\n",
       "      <td>5</td>\n",
       "    </tr>\n",
       "    <tr>\n",
       "      <th>21</th>\n",
       "      <td>Thiago</td>\n",
       "      <td>26</td>\n",
       "      <td>Spain</td>\n",
       "      <td>88</td>\n",
       "      <td>90</td>\n",
       "      <td>FC Bayern Munich</td>\n",
       "      <td>70.5</td>\n",
       "      <td>225</td>\n",
       "      <td>CDM CAM CM</td>\n",
       "      <td>4</td>\n",
       "    </tr>\n",
       "  </tbody>\n",
       "</table>\n",
       "</div>"
      ],
      "text/plain": [
       "            Name  Age Nationality  Overall  Potential               Club  \\\n",
       "6         De Gea   26       Spain       90         92  Manchester United   \n",
       "10  Sergio Ramos   31       Spain       90         90     Real Madrid CF   \n",
       "21        Thiago   26       Spain       88         90   FC Bayern Munich   \n",
       "\n",
       "    Value  Wage Preferred Positions  Rating  \n",
       "6    64.5   215                 GK        3  \n",
       "10   52.0   310                 CB        5  \n",
       "21   70.5   225         CDM CAM CM        4  "
      ]
     },
     "execution_count": 48,
     "metadata": {},
     "output_type": "execute_result"
    }
   ],
   "source": [
    "sp1"
   ]
  },
  {
   "cell_type": "code",
   "execution_count": 49,
   "metadata": {},
   "outputs": [
    {
     "data": {
      "text/plain": [
       "92"
      ]
     },
     "execution_count": 49,
     "metadata": {},
     "output_type": "execute_result"
    }
   ],
   "source": [
    "csv[csv['Nationality'] =='Spain'].max()['Potential']"
   ]
  },
  {
   "cell_type": "code",
   "execution_count": 50,
   "metadata": {},
   "outputs": [
    {
     "data": {
      "text/plain": [
       "Age\n",
       "23    215\n",
       "24     82\n",
       "25    280\n",
       "26    295\n",
       "27    270\n",
       "28    265\n",
       "29    275\n",
       "30    265\n",
       "31    310\n",
       "32    265\n",
       "39    110\n",
       "Name: Wage, dtype: int64"
      ]
     },
     "execution_count": 50,
     "metadata": {},
     "output_type": "execute_result"
    }
   ],
   "source": [
    "csv.groupby('Age').max()['Wage']"
   ]
  },
  {
   "cell_type": "code",
   "execution_count": 51,
   "metadata": {},
   "outputs": [
    {
     "data": {
      "text/plain": [
       "Age\n",
       "23    215\n",
       "24     82\n",
       "25    280\n",
       "26    295\n",
       "27    270\n",
       "28    265\n",
       "29    275\n",
       "30    265\n",
       "31    310\n",
       "32    265\n",
       "39    110\n",
       "Name: Wage, dtype: int64"
      ]
     },
     "execution_count": 51,
     "metadata": {},
     "output_type": "execute_result"
    }
   ],
   "source": [
    "csv.groupby(['Age'])['Wage'].max()"
   ]
  },
  {
   "cell_type": "code",
   "execution_count": 52,
   "metadata": {},
   "outputs": [
    {
     "data": {
      "text/plain": [
       "15"
      ]
     },
     "execution_count": 52,
     "metadata": {},
     "output_type": "execute_result"
    }
   ],
   "source": [
    "csv['Nationality'].nunique()"
   ]
  },
  {
   "cell_type": "code",
   "execution_count": 53,
   "metadata": {},
   "outputs": [
    {
     "data": {
      "text/plain": [
       "array(['Portugal', 'Argentina', 'Brazil', 'Uruguay', 'Germany', 'Poland',\n",
       "       'Spain', 'Belgium', 'Chile', 'Croatia', 'Wales', 'Italy',\n",
       "       'Slovenia', 'France', 'Gabon'], dtype=object)"
      ]
     },
     "execution_count": 53,
     "metadata": {},
     "output_type": "execute_result"
    }
   ],
   "source": [
    "csv['Nationality'].unique()"
   ]
  },
  {
   "cell_type": "code",
   "execution_count": 54,
   "metadata": {},
   "outputs": [
    {
     "data": {
      "text/plain": [
       "310"
      ]
     },
     "execution_count": 54,
     "metadata": {},
     "output_type": "execute_result"
    }
   ],
   "source": [
    "csv['Wage'].max()"
   ]
  },
  {
   "cell_type": "code",
   "execution_count": 55,
   "metadata": {},
   "outputs": [
    {
     "data": {
      "text/plain": [
       "10"
      ]
     },
     "execution_count": 55,
     "metadata": {},
     "output_type": "execute_result"
    }
   ],
   "source": [
    "csv['Wage'].idxmax()"
   ]
  },
  {
   "cell_type": "code",
   "execution_count": 56,
   "metadata": {},
   "outputs": [
    {
     "data": {
      "text/html": [
       "<div>\n",
       "<style scoped>\n",
       "    .dataframe tbody tr th:only-of-type {\n",
       "        vertical-align: middle;\n",
       "    }\n",
       "\n",
       "    .dataframe tbody tr th {\n",
       "        vertical-align: top;\n",
       "    }\n",
       "\n",
       "    .dataframe thead th {\n",
       "        text-align: right;\n",
       "    }\n",
       "</style>\n",
       "<table border=\"1\" class=\"dataframe\">\n",
       "  <thead>\n",
       "    <tr style=\"text-align: right;\">\n",
       "      <th></th>\n",
       "      <th>Name</th>\n",
       "      <th>Age</th>\n",
       "      <th>Nationality</th>\n",
       "      <th>Overall</th>\n",
       "      <th>Potential</th>\n",
       "      <th>Club</th>\n",
       "      <th>Value</th>\n",
       "      <th>Wage</th>\n",
       "      <th>Preferred Positions</th>\n",
       "      <th>Rating</th>\n",
       "    </tr>\n",
       "  </thead>\n",
       "  <tbody>\n",
       "    <tr>\n",
       "      <th>6</th>\n",
       "      <td>De Gea</td>\n",
       "      <td>26</td>\n",
       "      <td>Spain</td>\n",
       "      <td>90</td>\n",
       "      <td>92</td>\n",
       "      <td>Manchester United</td>\n",
       "      <td>64.5</td>\n",
       "      <td>215</td>\n",
       "      <td>GK</td>\n",
       "      <td>3</td>\n",
       "    </tr>\n",
       "    <tr>\n",
       "      <th>10</th>\n",
       "      <td>Sergio Ramos</td>\n",
       "      <td>31</td>\n",
       "      <td>Spain</td>\n",
       "      <td>90</td>\n",
       "      <td>90</td>\n",
       "      <td>Real Madrid CF</td>\n",
       "      <td>52.0</td>\n",
       "      <td>310</td>\n",
       "      <td>CB</td>\n",
       "      <td>5</td>\n",
       "    </tr>\n",
       "    <tr>\n",
       "      <th>21</th>\n",
       "      <td>Thiago</td>\n",
       "      <td>26</td>\n",
       "      <td>Spain</td>\n",
       "      <td>88</td>\n",
       "      <td>90</td>\n",
       "      <td>FC Bayern Munich</td>\n",
       "      <td>70.5</td>\n",
       "      <td>225</td>\n",
       "      <td>CDM CAM CM</td>\n",
       "      <td>4</td>\n",
       "    </tr>\n",
       "  </tbody>\n",
       "</table>\n",
       "</div>"
      ],
      "text/plain": [
       "            Name  Age Nationality  Overall  Potential               Club  \\\n",
       "6         De Gea   26       Spain       90         92  Manchester United   \n",
       "10  Sergio Ramos   31       Spain       90         90     Real Madrid CF   \n",
       "21        Thiago   26       Spain       88         90   FC Bayern Munich   \n",
       "\n",
       "    Value  Wage Preferred Positions  Rating  \n",
       "6    64.5   215                 GK        3  \n",
       "10   52.0   310                 CB        5  \n",
       "21   70.5   225         CDM CAM CM        4  "
      ]
     },
     "execution_count": 56,
     "metadata": {},
     "output_type": "execute_result"
    }
   ],
   "source": [
    "sp"
   ]
  },
  {
   "cell_type": "code",
   "execution_count": 59,
   "metadata": {},
   "outputs": [
    {
     "data": {
      "text/html": [
       "<div>\n",
       "<style scoped>\n",
       "    .dataframe tbody tr th:only-of-type {\n",
       "        vertical-align: middle;\n",
       "    }\n",
       "\n",
       "    .dataframe tbody tr th {\n",
       "        vertical-align: top;\n",
       "    }\n",
       "\n",
       "    .dataframe thead th {\n",
       "        text-align: right;\n",
       "    }\n",
       "</style>\n",
       "<table border=\"1\" class=\"dataframe\">\n",
       "  <thead>\n",
       "    <tr style=\"text-align: right;\">\n",
       "      <th></th>\n",
       "      <th>Name</th>\n",
       "      <th>Age</th>\n",
       "      <th>Nationality</th>\n",
       "      <th>Overall</th>\n",
       "      <th>Potential</th>\n",
       "      <th>Club</th>\n",
       "      <th>Value</th>\n",
       "      <th>Wage</th>\n",
       "      <th>Preferred Positions</th>\n",
       "      <th>Rating</th>\n",
       "    </tr>\n",
       "  </thead>\n",
       "  <tbody>\n",
       "    <tr>\n",
       "      <th>16</th>\n",
       "      <td>G. Chiellini</td>\n",
       "      <td>32</td>\n",
       "      <td>Italy</td>\n",
       "      <td>89</td>\n",
       "      <td>89</td>\n",
       "      <td>Juventus</td>\n",
       "      <td>38.0</td>\n",
       "      <td>225</td>\n",
       "      <td>CB</td>\n",
       "      <td>1</td>\n",
       "    </tr>\n",
       "    <tr>\n",
       "      <th>17</th>\n",
       "      <td>G. Buffon</td>\n",
       "      <td>39</td>\n",
       "      <td>Italy</td>\n",
       "      <td>89</td>\n",
       "      <td>89</td>\n",
       "      <td>Juventus</td>\n",
       "      <td>4.5</td>\n",
       "      <td>110</td>\n",
       "      <td>GK</td>\n",
       "      <td>5</td>\n",
       "    </tr>\n",
       "  </tbody>\n",
       "</table>\n",
       "</div>"
      ],
      "text/plain": [
       "            Name  Age Nationality  Overall  Potential      Club  Value  Wage  \\\n",
       "16  G. Chiellini   32       Italy       89         89  Juventus   38.0   225   \n",
       "17     G. Buffon   39       Italy       89         89  Juventus    4.5   110   \n",
       "\n",
       "   Preferred Positions  Rating  \n",
       "16                 CB        1  \n",
       "17                 GK        5  "
      ]
     },
     "execution_count": 59,
     "metadata": {},
     "output_type": "execute_result"
    }
   ],
   "source": [
    "it"
   ]
  },
  {
   "cell_type": "code",
   "execution_count": 63,
   "metadata": {},
   "outputs": [
    {
     "data": {
      "image/png": "[encoded data removed]",
      "text/plain": [
       "<Figure size 432x288 with 1 Axes>"
      ]
     },
     "metadata": {
      "needs_background": "light"
     },
     "output_type": "display_data"
    }
   ],
   "source": [
    "plt.plot(sp['Preferred Positions'],sp['Potential'])\n",
    "plt.plot(it['Preferred Positions'],it['Potential'])\n",
    "plt.legend(['SpainPote','Italy Pote'])\n",
    "plt.xlabel('Preferred Positions')\n",
    "plt.ylabel('Potential')\n",
    "plt.show()"
   ]
  },
  {
   "cell_type": "code",
   "execution_count": null,
   "metadata": {},
   "outputs": [],
   "source": []
  }
 ],
 "metadata": {
  "kernelspec": {
   "display_name": "Python 3",
   "language": "python",
   "name": "python3"
  },
  "language_info": {
   "codemirror_mode": {
    "name": "ipython",
    "version": 3
   },
   "file_extension": ".py",
   "mimetype": "text/x-python",
   "name": "python",
   "nbconvert_exporter": "python",
   "pygments_lexer": "ipython3",
   "version": "3.6.8"
  }
 },
 "nbformat": 4,
 "nbformat_minor": 4
}
