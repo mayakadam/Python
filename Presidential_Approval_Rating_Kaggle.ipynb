{
 "cells": [
  {
   "cell_type": "code",
   "execution_count": 4,
   "metadata": {},
   "outputs": [],
   "source": [
    "import pandas as pd\n",
    "import numpy as np\n",
    "import matplotlib.pyplot as plt\n",
    "from matplotlib.pyplot import *\n",
    "import datetime"
   ]
  },
  {
   "cell_type": "code",
   "execution_count": 5,
   "metadata": {},
   "outputs": [],
   "source": [
    "obama = pd.read_csv('D:\\\\Python\\\\Python36\\\\Practice\\\\Obama.csv', parse_dates=['start_date','end_date'])"
   ]
  },
  {
   "cell_type": "code",
   "execution_count": 6,
   "metadata": {},
   "outputs": [
    {
     "data": {
      "text/html": [
       "<div>\n",
       "<style scoped>\n",
       "    .dataframe tbody tr th:only-of-type {\n",
       "        vertical-align: middle;\n",
       "    }\n",
       "\n",
       "    .dataframe tbody tr th {\n",
       "        vertical-align: top;\n",
       "    }\n",
       "\n",
       "    .dataframe thead th {\n",
       "        text-align: right;\n",
       "    }\n",
       "</style>\n",
       "<table border=\"1\" class=\"dataframe\">\n",
       "  <thead>\n",
       "    <tr style=\"text-align: right;\">\n",
       "      <th></th>\n",
       "      <th>survey_organization</th>\n",
       "      <th>party_affiliation</th>\n",
       "      <th>start_date</th>\n",
       "      <th>end_date</th>\n",
       "      <th>survey_method</th>\n",
       "      <th>survey_question</th>\n",
       "      <th>survey_population</th>\n",
       "      <th>survey_sample</th>\n",
       "      <th>approve_percent</th>\n",
       "      <th>disapprove_percent</th>\n",
       "      <th>undecided_percent</th>\n",
       "      <th>margin_of_error</th>\n",
       "      <th>YearMonth</th>\n",
       "    </tr>\n",
       "  </thead>\n",
       "  <tbody>\n",
       "    <tr>\n",
       "      <th>0</th>\n",
       "      <td>Democracy Corps (D)</td>\n",
       "      <td>Democrat</td>\n",
       "      <td>2008-11-19</td>\n",
       "      <td>2008-11-23</td>\n",
       "      <td>Live Phone</td>\n",
       "      <td>NaN</td>\n",
       "      <td>Likely Voters</td>\n",
       "      <td>1000.0</td>\n",
       "      <td>53</td>\n",
       "      <td>20.0</td>\n",
       "      <td>28.0</td>\n",
       "      <td>3.0</td>\n",
       "      <td>2008-11</td>\n",
       "    </tr>\n",
       "    <tr>\n",
       "      <th>1</th>\n",
       "      <td>ABC News</td>\n",
       "      <td>None</td>\n",
       "      <td>2008-11-19</td>\n",
       "      <td>2008-11-23</td>\n",
       "      <td>Live Phone</td>\n",
       "      <td>NaN</td>\n",
       "      <td>Adults</td>\n",
       "      <td>1003.0</td>\n",
       "      <td>67</td>\n",
       "      <td>18.0</td>\n",
       "      <td>15.0</td>\n",
       "      <td>3.0</td>\n",
       "      <td>2008-11</td>\n",
       "    </tr>\n",
       "    <tr>\n",
       "      <th>2</th>\n",
       "      <td>CNN</td>\n",
       "      <td>None</td>\n",
       "      <td>2008-01-12</td>\n",
       "      <td>2008-02-12</td>\n",
       "      <td>Live Phone</td>\n",
       "      <td>NaN</td>\n",
       "      <td>Adults</td>\n",
       "      <td>1096.0</td>\n",
       "      <td>79</td>\n",
       "      <td>18.0</td>\n",
       "      <td>3.0</td>\n",
       "      <td>3.0</td>\n",
       "      <td>2008-12</td>\n",
       "    </tr>\n",
       "    <tr>\n",
       "      <th>3</th>\n",
       "      <td>USA Today/Gallup</td>\n",
       "      <td>None</td>\n",
       "      <td>2008-01-12</td>\n",
       "      <td>2008-01-12</td>\n",
       "      <td>Live Phone</td>\n",
       "      <td>NaN</td>\n",
       "      <td>Adults</td>\n",
       "      <td>1010.0</td>\n",
       "      <td>78</td>\n",
       "      <td>13.0</td>\n",
       "      <td>9.0</td>\n",
       "      <td>3.0</td>\n",
       "      <td>2008-12</td>\n",
       "    </tr>\n",
       "    <tr>\n",
       "      <th>4</th>\n",
       "      <td>AP-GFK</td>\n",
       "      <td>None</td>\n",
       "      <td>2008-03-12</td>\n",
       "      <td>2008-08-12</td>\n",
       "      <td>Live Phone</td>\n",
       "      <td>NaN</td>\n",
       "      <td>Adults</td>\n",
       "      <td>1000.0</td>\n",
       "      <td>73</td>\n",
       "      <td>14.0</td>\n",
       "      <td>8.0</td>\n",
       "      <td>3.1</td>\n",
       "      <td>2008-12</td>\n",
       "    </tr>\n",
       "  </tbody>\n",
       "</table>\n",
       "</div>"
      ],
      "text/plain": [
       "   survey_organization party_affiliation start_date   end_date survey_method  \\\n",
       "0  Democracy Corps (D)          Democrat 2008-11-19 2008-11-23    Live Phone   \n",
       "1             ABC News              None 2008-11-19 2008-11-23    Live Phone   \n",
       "2                  CNN              None 2008-01-12 2008-02-12    Live Phone   \n",
       "3     USA Today/Gallup              None 2008-01-12 2008-01-12    Live Phone   \n",
       "4               AP-GFK              None 2008-03-12 2008-08-12    Live Phone   \n",
       "\n",
       "  survey_question survey_population  survey_sample  approve_percent  \\\n",
       "0             NaN     Likely Voters         1000.0               53   \n",
       "1             NaN            Adults         1003.0               67   \n",
       "2             NaN            Adults         1096.0               79   \n",
       "3             NaN            Adults         1010.0               78   \n",
       "4             NaN            Adults         1000.0               73   \n",
       "\n",
       "   disapprove_percent  undecided_percent  margin_of_error YearMonth  \n",
       "0                20.0               28.0              3.0   2008-11  \n",
       "1                18.0               15.0              3.0   2008-11  \n",
       "2                18.0                3.0              3.0   2008-12  \n",
       "3                13.0                9.0              3.0   2008-12  \n",
       "4                14.0                8.0              3.1   2008-12  "
      ]
     },
     "execution_count": 6,
     "metadata": {},
     "output_type": "execute_result"
    }
   ],
   "source": [
    "obama.head()"
   ]
  },
  {
   "cell_type": "code",
   "execution_count": 7,
   "metadata": {},
   "outputs": [
    {
     "name": "stdout",
     "output_type": "stream",
     "text": [
      "<class 'pandas.core.frame.DataFrame'>\n",
      "RangeIndex: 11696 entries, 0 to 11695\n",
      "Data columns (total 13 columns):\n",
      " #   Column               Non-Null Count  Dtype         \n",
      "---  ------               --------------  -----         \n",
      " 0   survey_organization  11696 non-null  object        \n",
      " 1   party_affiliation    11696 non-null  object        \n",
      " 2   start_date           11696 non-null  datetime64[ns]\n",
      " 3   end_date             11696 non-null  datetime64[ns]\n",
      " 4   survey_method        11696 non-null  object        \n",
      " 5   survey_question      343 non-null    object        \n",
      " 6   survey_population    11696 non-null  object        \n",
      " 7   survey_sample        10063 non-null  float64       \n",
      " 8   approve_percent      11696 non-null  int64         \n",
      " 9   disapprove_percent   11510 non-null  float64       \n",
      " 10  undecided_percent    5532 non-null   float64       \n",
      " 11  margin_of_error      8199 non-null   float64       \n",
      " 12  YearMonth            11696 non-null  object        \n",
      "dtypes: datetime64[ns](2), float64(4), int64(1), object(6)\n",
      "memory usage: 1.2+ MB\n"
     ]
    }
   ],
   "source": [
    "obama.info()"
   ]
  },
  {
   "cell_type": "code",
   "execution_count": 8,
   "metadata": {
    "scrolled": true
   },
   "outputs": [
    {
     "name": "stdout",
     "output_type": "stream",
     "text": [
      "Int64Index([2008, 2008, 2008, 2008, 2008, 2008, 2008, 2008, 2008, 2008,\n",
      "            ...\n",
      "            2017, 2017, 2017, 2017, 2017, 2017, 2017, 2017, 2017, 2017],\n",
      "           dtype='int64', name='start_date', length=11696)\n"
     ]
    }
   ],
   "source": [
    "print(pd.DatetimeIndex(obama['start_date']).year)"
   ]
  },
  {
   "cell_type": "code",
   "execution_count": 36,
   "metadata": {},
   "outputs": [],
   "source": [
    "obama_mean = (obama.groupby(['YearMonth'])['approve_percent'].mean()).reset_index()"
   ]
  },
  {
   "cell_type": "code",
   "execution_count": 37,
   "metadata": {},
   "outputs": [
    {
     "data": {
      "text/html": [
       "<div>\n",
       "<style scoped>\n",
       "    .dataframe tbody tr th:only-of-type {\n",
       "        vertical-align: middle;\n",
       "    }\n",
       "\n",
       "    .dataframe tbody tr th {\n",
       "        vertical-align: top;\n",
       "    }\n",
       "\n",
       "    .dataframe thead th {\n",
       "        text-align: right;\n",
       "    }\n",
       "</style>\n",
       "<table border=\"1\" class=\"dataframe\">\n",
       "  <thead>\n",
       "    <tr style=\"text-align: right;\">\n",
       "      <th></th>\n",
       "      <th>YearMonth</th>\n",
       "      <th>approve_percent</th>\n",
       "    </tr>\n",
       "  </thead>\n",
       "  <tbody>\n",
       "    <tr>\n",
       "      <th>0</th>\n",
       "      <td>2008-11</td>\n",
       "      <td>60.000000</td>\n",
       "    </tr>\n",
       "    <tr>\n",
       "      <th>1</th>\n",
       "      <td>2008-12</td>\n",
       "      <td>72.769231</td>\n",
       "    </tr>\n",
       "    <tr>\n",
       "      <th>2</th>\n",
       "      <td>2009-01</td>\n",
       "      <td>63.773585</td>\n",
       "    </tr>\n",
       "    <tr>\n",
       "      <th>3</th>\n",
       "      <td>2009-02</td>\n",
       "      <td>61.044248</td>\n",
       "    </tr>\n",
       "    <tr>\n",
       "      <th>4</th>\n",
       "      <td>2009-03</td>\n",
       "      <td>58.333333</td>\n",
       "    </tr>\n",
       "  </tbody>\n",
       "</table>\n",
       "</div>"
      ],
      "text/plain": [
       "  YearMonth  approve_percent\n",
       "0   2008-11        60.000000\n",
       "1   2008-12        72.769231\n",
       "2   2009-01        63.773585\n",
       "3   2009-02        61.044248\n",
       "4   2009-03        58.333333"
      ]
     },
     "execution_count": 37,
     "metadata": {},
     "output_type": "execute_result"
    }
   ],
   "source": [
    "obama_mean.head()"
   ]
  },
  {
   "cell_type": "code",
   "execution_count": 38,
   "metadata": {},
   "outputs": [],
   "source": [
    "obama_median= (obama.groupby(['YearMonth'])['approve_percent'].median()).reset_index()"
   ]
  },
  {
   "cell_type": "code",
   "execution_count": 40,
   "metadata": {},
   "outputs": [
    {
     "data": {
      "image/png": "[encoded data removed]",
      "text/plain": [
       "<Figure size 432x288 with 1 Axes>"
      ]
     },
     "metadata": {
      "needs_background": "light"
     },
     "output_type": "display_data"
    },
    {
     "data": {
      "image/png": "[encoded data removed]",
      "text/plain": [
       "<Figure size 432x288 with 1 Axes>"
      ]
     },
     "metadata": {
      "needs_background": "light"
     },
     "output_type": "display_data"
    }
   ],
   "source": [
    "plt.scatter(obama_mean['YearMonth'], obama_mean['approve_percent'])\n",
    "plt.xlabel('YearMonth')\n",
    "plt.ylabel('Mean')\n",
    "plt.title('Showing Mean')\n",
    "plt.show()\n",
    "plt.scatter(obama_median['YearMonth'], obama_median['approve_percent'])\n",
    "plt.xlabel('YearMonth')\n",
    "plt.ylabel('Mean')\n",
    "plt.title('Showing median')\n",
    "plt.show()"
   ]
  },
  {
   "cell_type": "code",
   "execution_count": 42,
   "metadata": {},
   "outputs": [
    {
     "data": {
      "image/png": "[encoded data removed]",
      "text/plain": [
       "<Figure size 432x288 with 1 Axes>"
      ]
     },
     "metadata": {
      "needs_background": "light"
     },
     "output_type": "display_data"
    }
   ],
   "source": [
    "plt.scatter(obama_mean['approve_percent'], obama_median['approve_percent'])\n",
    "plt.xlabel('Mean')\n",
    "plt.ylabel('Median')\n",
    "plt.title('Showing Mean & Median')\n",
    "plt.show()"
   ]
  },
  {
   "cell_type": "code",
   "execution_count": 43,
   "metadata": {},
   "outputs": [],
   "source": [
    "obama_median_index= obama.groupby(['YearMonth'])['approve_percent'].median()"
   ]
  },
  {
   "cell_type": "code",
   "execution_count": 47,
   "metadata": {},
   "outputs": [
    {
     "data": {
      "text/plain": [
       "Index(['2008-11', '2008-12', '2009-01', '2009-02', '2009-03', '2009-04',\n",
       "       '2009-05', '2009-06', '2009-07', '2009-08', '2009-09', '2009-10',\n",
       "       '2009-11', '2009-12', '2010-01', '2010-02', '2010-03', '2010-04',\n",
       "       '2010-05', '2010-06', '2010-07', '2010-08', '2010-09', '2010-10',\n",
       "       '2010-11', '2010-12', '2011-01', '2011-02', '2011-03', '2011-04',\n",
       "       '2011-05', '2011-06', '2011-07', '2011-08', '2011-09', '2011-10',\n",
       "       '2011-11', '2011-12', '2012-01', '2012-02', '2012-03', '2012-04',\n",
       "       '2012-05', '2012-06', '2012-07', '2012-08', '2012-09', '2012-10',\n",
       "       '2012-11', '2012-12', '2013-01', '2013-02', '2013-03', '2013-04',\n",
       "       '2013-05', '2013-06', '2013-07', '2013-08', '2013-09', '2013-10',\n",
       "       '2013-11', '2013-12', '2014-01', '2014-02', '2014-03', '2014-04',\n",
       "       '2014-05', '2014-06', '2014-07', '2014-08', '2014-09', '2014-10',\n",
       "       '2014-11', '2014-12', '2015-01', '2015-02', '2015-03', '2015-04',\n",
       "       '2015-05', '2015-06', '2015-07', '2015-08', '2015-09', '2015-10',\n",
       "       '2015-11', '2015-12', '2016-01', '2016-02', '2016-03', '2016-04',\n",
       "       '2016-05', '2016-06', '2016-07', '2016-08', '2016-09', '2016-10',\n",
       "       '2016-11', '2016-12', '2017-01'],\n",
       "      dtype='object', name='YearMonth')"
      ]
     },
     "execution_count": 47,
     "metadata": {},
     "output_type": "execute_result"
    }
   ],
   "source": [
    "obama_median_index.index"
   ]
  },
  {
   "cell_type": "code",
   "execution_count": 56,
   "metadata": {},
   "outputs": [
    {
     "data": {
      "text/plain": [
       "YearMonth\n",
       "2008-11    56.50\n",
       "2008-12    72.00\n",
       "2009-01    61.00\n",
       "2009-02    59.00\n",
       "2009-03    56.00\n",
       "           ...  \n",
       "2016-09    44.75\n",
       "2016-10    46.00\n",
       "2016-11    49.25\n",
       "2016-12    48.00\n",
       "2017-01    50.00\n",
       "Name: approve_percent, Length: 99, dtype: float64"
      ]
     },
     "execution_count": 56,
     "metadata": {},
     "output_type": "execute_result"
    }
   ],
   "source": [
    "obama_25 = obama.groupby(['YearMonth'])['approve_percent'].quantile(0.25)\n",
    "obama_25"
   ]
  },
  {
   "cell_type": "code",
   "execution_count": 49,
   "metadata": {},
   "outputs": [],
   "source": [
    "obama_75 = obama.groupby(['YearMonth'])['approve_percent'].quantile(0.75)"
   ]
  },
  {
   "cell_type": "code",
   "execution_count": 59,
   "metadata": {},
   "outputs": [
    {
     "data": {
      "text/plain": [
       "Text(0, 0.5, 'approve percent')"
      ]
     },
     "execution_count": 59,
     "metadata": {},
     "output_type": "execute_result"
    },
    {
     "data": {
      "image/png": "[encoded data removed]",
      "text/plain": [
       "<Figure size 432x288 with 1 Axes>"
      ]
     },
     "metadata": {
      "needs_background": "light"
     },
     "output_type": "display_data"
    }
   ],
   "source": [
    "plt.plot(obama_75.index,obama_75, 'green')\n",
    "plt.plot(obama_mean.index, obama_mean['approve_percent'], 'blue')\n",
    "plt.plot(obama_25.index, obama_25, 'red')\n",
    "plt.plot(obama['YearMonth'],obama['approve_percent'], 'o', markersize=2, alpha =0.2)\n",
    "plt.legend(['75Percentile','Mean','25Percentile'])\n",
    "plt.xlabel('YearMonth')\n",
    "plt.ylabel('approve percent')"
   ]
  },
  {
   "cell_type": "code",
   "execution_count": null,
   "metadata": {},
   "outputs": [],
   "source": []
  }
 ],
 "metadata": {
  "kernelspec": {
   "display_name": "Python 3",
   "language": "python",
   "name": "python3"
  },
  "language_info": {
   "codemirror_mode": {
    "name": "ipython",
    "version": 3
   },
   "file_extension": ".py",
   "mimetype": "text/x-python",
   "name": "python",
   "nbconvert_exporter": "python",
   "pygments_lexer": "ipython3",
   "version": "3.6.8"
  }
 },
 "nbformat": 4,
 "nbformat_minor": 4
}
